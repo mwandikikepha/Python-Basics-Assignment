{
 "cells": [
  {
   "cell_type": "code",
   "execution_count": 2,
   "id": "aabaacf9",
   "metadata": {},
   "outputs": [
    {
     "name": "stdout",
     "output_type": "stream",
     "text": [
      "22\n"
     ]
    }
   ],
   "source": [
    "# Assignment: Variables in Python\n",
    "# 1. Declare a variable named age and assign your age to it.\n",
    "age = 22\n",
    "print(age)\n"
   ]
  },
  {
   "cell_type": "code",
   "execution_count": 3,
   "id": "bf82386f",
   "metadata": {},
   "outputs": [
    {
     "name": "stdout",
     "output_type": "stream",
     "text": [
      "15\n"
     ]
    }
   ],
   "source": [
    "# 2. Create two variables x = 10 and y = 5. Print their sum\n",
    "x = 10\n",
    "y = 5\n",
    "print(x + y)"
   ]
  },
  {
   "cell_type": "code",
   "execution_count": null,
   "id": "5e38df92",
   "metadata": {},
   "outputs": [
    {
     "ename": "SyntaxError",
     "evalue": "invalid decimal literal (3980822128.py, line 2)",
     "output_type": "error",
     "traceback": [
      "  \u001b[36mCell\u001b[39m\u001b[36m \u001b[39m\u001b[32mIn[4]\u001b[39m\u001b[32m, line 2\u001b[39m\n\u001b[31m    \u001b[39m\u001b[31m2ndName = 'Kepha'\u001b[39m\n    ^\n\u001b[31mSyntaxError\u001b[39m\u001b[31m:\u001b[39m invalid decimal literal\n"
     ]
    }
   ],
   "source": [
    "# 3. Try using an invalid variable name like 2ndName and observe the error.\n",
    "2ndName = 'Kepha'\n",
    "#. A syntax error, a variable name should not start with numbers"
   ]
  },
  {
   "cell_type": "code",
   "execution_count": null,
   "id": "a6f58772",
   "metadata": {},
   "outputs": [
    {
     "name": "stdout",
     "output_type": "stream",
     "text": [
      "Kepha\n"
     ]
    }
   ],
   "source": [
    "# 4. Assign a string to a variable and print it.\n",
    "name = 'Kepha'\n",
    "\n",
    "print(name)"
   ]
  },
  {
   "cell_type": "code",
   "execution_count": null,
   "id": "d6c0f62d",
   "metadata": {},
   "outputs": [],
   "source": [
    "# Write a program that asks the user to input their name and age, and then prints a greeting\n",
    "\n",
    "name = input(\"Enter your name: \")\n",
    "age = input(\"Enter your age: \")\n",
    "print(f\"Your name is {name}, and you are {age} years old\")"
   ]
  },
  {
   "cell_type": "code",
   "execution_count": 4,
   "id": "60b01ca7",
   "metadata": {},
   "outputs": [
    {
     "name": "stdout",
     "output_type": "stream",
     "text": [
      "<class 'int'> <class 'float'> <class 'str'>\n"
     ]
    }
   ],
   "source": [
    "# Assignment: Data Types\n",
    "# 1. Print the type of 42, 3.14, and 'hello'.\n",
    "\n",
    "num1 = 42\n",
    "num2 = 3.14\n",
    "greet = 'hello'\n",
    "print(type(num1), type(num2), type(greet))"
   ]
  },
  {
   "cell_type": "code",
   "execution_count": 5,
   "id": "cb8c3e6b",
   "metadata": {},
   "outputs": [
    {
     "name": "stdout",
     "output_type": "stream",
     "text": [
      "<class 'int'>\n"
     ]
    }
   ],
   "source": [
    "# 2. Convert a string '100' to an integer.\n",
    "num4 = '100'\n",
    "print(type(int(num4)))"
   ]
  },
  {
   "cell_type": "code",
   "execution_count": null,
   "id": "f952cb12",
   "metadata": {},
   "outputs": [
    {
     "data": {
      "text/plain": [
       "45.14"
      ]
     },
     "execution_count": 7,
     "metadata": {},
     "output_type": "execute_result"
    }
   ],
   "source": [
    "# 3. Add an integer and a float together. What is the result?\n",
    "num1 + num2\n",
    "#. A float is the answer."
   ]
  },
  {
   "cell_type": "code",
   "execution_count": null,
   "id": "bdcbf647",
   "metadata": {},
   "outputs": [
    {
     "data": {
      "text/plain": [
       "'hellohellohellohellohellohellohellohellohellohellohellohellohellohellohellohellohellohellohellohellohellohellohellohellohellohellohellohellohellohellohellohellohellohellohellohellohellohellohellohellohellohello'"
      ]
     },
     "execution_count": 8,
     "metadata": {},
     "output_type": "execute_result"
    }
   ],
   "source": [
    "# 4. What happens when you try to multiply a string by a number?\n",
    "greet * num1\n",
    "# The output is that the string is printed multiple times as the number/string multiplied with"
   ]
  },
  {
   "cell_type": "code",
   "execution_count": null,
   "id": "918b8e8f",
   "metadata": {},
   "outputs": [],
   "source": [
    "#Asks the user to enter two numbers (as strings)\n",
    "#Converts them to integers or floats\n",
    "#Prints their sum and type\n",
    "number1 = str(input(\"Enter number 1: \"))\n",
    "number2 = str(input(\"Enter number 2: \"))\n",
    "number1 = int(number1)\n",
    "number2 = int(number2)\n",
    "sum = number1 + number2\n",
    "print(f\"The sum is {sum} and their type is {type(sum)}\")\n"
   ]
  },
  {
   "cell_type": "code",
   "execution_count": 12,
   "id": "1883df5b",
   "metadata": {},
   "outputs": [
    {
     "name": "stdout",
     "output_type": "stream",
     "text": [
      "apple\n"
     ]
    }
   ],
   "source": [
    "# Assignment: Data Structures\n",
    "# 1. Create a list of 5 fruits and print the third fruit\n",
    "fruits = ['mango', 'banana', 'apple', 'orange', 'melon']\n",
    "print(fruits[2])"
   ]
  },
  {
   "cell_type": "code",
   "execution_count": 16,
   "id": "128f155b",
   "metadata": {},
   "outputs": [
    {
     "name": "stdout",
     "output_type": "stream",
     "text": [
      "22\n"
     ]
    }
   ],
   "source": [
    "# 2. Create a dictionary with keys: name, age. Print the value of age.\n",
    "info = {'name': 'Kepha', 'age': 22}\n",
    "print(info['age'])"
   ]
  },
  {
   "cell_type": "code",
   "execution_count": null,
   "id": "8f354cce",
   "metadata": {},
   "outputs": [
    {
     "ename": "TypeError",
     "evalue": "'tuple' object does not support item assignment",
     "output_type": "error",
     "traceback": [
      "\u001b[31m---------------------------------------------------------------------------\u001b[39m",
      "\u001b[31mTypeError\u001b[39m                                 Traceback (most recent call last)",
      "\u001b[36mCell\u001b[39m\u001b[36m \u001b[39m\u001b[32mIn[18]\u001b[39m\u001b[32m, line 3\u001b[39m\n\u001b[32m      1\u001b[39m \u001b[38;5;66;03m# 3. Define a tuple with three numbers. Try modifying it. What happens?\u001b[39;00m\n\u001b[32m      2\u001b[39m \u001b[38;5;28mtuple\u001b[39m = (\u001b[32m1\u001b[39m,\u001b[32m2\u001b[39m,\u001b[32m3\u001b[39m)\n\u001b[32m----> \u001b[39m\u001b[32m3\u001b[39m \u001b[38;5;28;43mtuple\u001b[39;49m\u001b[43m[\u001b[49m\u001b[32;43m1\u001b[39;49m\u001b[43m]\u001b[49m = \u001b[32m4\u001b[39m\n",
      "\u001b[31mTypeError\u001b[39m: 'tuple' object does not support item assignment"
     ]
    }
   ],
   "source": [
    "# 3. Define a tuple with three numbers. Try modifying it. What happens?\n",
    "tuple = (1,2,3)\n",
    "tuple[1] = 4\n",
    "# An error occurs. Tuples can not be modified/changed"
   ]
  },
  {
   "cell_type": "code",
   "execution_count": 20,
   "id": "7634cdd5",
   "metadata": {},
   "outputs": [
    {
     "name": "stdout",
     "output_type": "stream",
     "text": [
      "{1, 2, 3, 4, 5}\n"
     ]
    }
   ],
   "source": [
    "# Create a set from a list with duplicate values.\n",
    "list1 = [1,2,3,4,5,2,1,3,4]\n",
    "set1 = set(list1)\n",
    "print(set1)"
   ]
  },
  {
   "cell_type": "code",
   "execution_count": null,
   "id": "997752c8",
   "metadata": {},
   "outputs": [],
   "source": [
    "# Create a program that:\n",
    "\n",
    "# Takes 5 user inputs and stores them in a list\n",
    "# Converts the list into a set and prints the unique values\n",
    "\n",
    "values = []\n",
    "for value in range (5):\n",
    "  value = int(input(f\"Enter value {values}\"))\n",
    "  values.append(value)\n",
    "set2 = set(values)\n",
    "print(set2)"
   ]
  },
  {
   "cell_type": "code",
   "execution_count": 26,
   "id": "bcd3f177",
   "metadata": {},
   "outputs": [
    {
     "name": "stdout",
     "output_type": "stream",
     "text": [
      "1,2,3,4,5,6,7,8,9,10,"
     ]
    }
   ],
   "source": [
    "# Assignment: Loops\n",
    "# 1. Use a for loop to print numbers from 1 to 10.\n",
    "nums = [1,2,3,4,5,6,7,8,9,10]\n",
    "for num in nums:\n",
    "    print(num, end = ',')"
   ]
  },
  {
   "cell_type": "code",
   "execution_count": 1,
   "id": "ccff3812",
   "metadata": {},
   "outputs": [
    {
     "name": "stdout",
     "output_type": "stream",
     "text": [
      "2,4,6,8,10,12,14,16,18,20,"
     ]
    }
   ],
   "source": [
    "# 2. Write a loop that prints even numbers from 1 to 20\n",
    "for i in range (1,21):\n",
    "    if i % 2 ==0:\n",
    "        print(i, end = ',')"
   ]
  },
  {
   "cell_type": "code",
   "execution_count": 37,
   "id": "4a6f96be",
   "metadata": {},
   "outputs": [
    {
     "ename": "IndentationError",
     "evalue": "unexpected indent (2350403279.py, line 3)",
     "output_type": "error",
     "traceback": [
      "  \u001b[36mCell\u001b[39m\u001b[36m \u001b[39m\u001b[32mIn[37]\u001b[39m\u001b[32m, line 3\u001b[39m\n\u001b[31m    \u001b[39m\u001b[31mfor num in nums:\u001b[39m\n    ^\n\u001b[31mIndentationError\u001b[39m\u001b[31m:\u001b[39m unexpected indent\n"
     ]
    }
   ],
   "source": [
    "# 4. Explain what break and continue do in your own words\n",
    " # break - in this example, the output will only be the numbers you have listed before 3\n",
    " for num in nums:\n",
    "    if num == 3:\n",
    "        break  \n",
    "    print(num)\n",
    "    \n",
    "# continue - It jumps the named number and continues to output the rest of the numbers/code\n",
    "for num in nums:\n",
    "    if num == 3:\n",
    "        continue\n",
    "    print(num, end = ',')\n",
    "  "
   ]
  },
  {
   "cell_type": "code",
   "execution_count": null,
   "id": "e2dfb046",
   "metadata": {},
   "outputs": [],
   "source": [
    "# Write a guessing game that asks the user to guess a secret number between 1 and 10.\n",
    "#Give feedback (too high / too low)\n",
    "#Use a while loop\n",
    "answer = 5\n",
    "user_input = int(input(\"Guess a number between 1 and 10: \"))\n",
    "while user_input != answer:\n",
    "    if user_input < answer:\n",
    "        print('Low number, try again: ')\n",
    "    else:\n",
    "        print('High number, try again: ')\n",
    "    user_input = int(input(\"Guess a number between 1 and 10: \"))\n",
    "\n",
    "print(\"Correct answer.\")\n",
    " \n",
    "    \n"
   ]
  },
  {
   "cell_type": "code",
   "execution_count": null,
   "id": "2f6b1a21",
   "metadata": {},
   "outputs": [],
   "source": [
    "# Assignment: Control Flow\n",
    "# 1. Write a program that checks if a number is positive, negative, or zero\n",
    "number = int(input(\"Enter a number:\" ))\n",
    "def number_check():\n",
    "    if number > 0:\n",
    "        return 'positive'\n",
    "    if number < 0:\n",
    "        return 'negative'\n",
    "    else:\n",
    "        return 'zero'\n",
    "    \n",
    "number_check()"
   ]
  },
  {
   "cell_type": "code",
   "execution_count": null,
   "id": "64774e42",
   "metadata": {},
   "outputs": [],
   "source": [
    "# 2. Create a program that checks if someone is eligible to vote\n",
    "age = int(input(\"Enter your age: \"))\n",
    "if age > 18:\n",
    "  print(\"Eligible to vote: \")\n",
    "else:\n",
    "  print(\"Not Eligible\")"
   ]
  },
  {
   "cell_type": "code",
   "execution_count": null,
   "id": "0c861828",
   "metadata": {},
   "outputs": [],
   "source": [
    "# 3. Write a program that takes 3 numbers and prints the largest one.\n",
    "numbers = []\n",
    "for i in range (3):\n",
    "  number = int(input(f\"Enter number {i+1}: \"))\n",
    "  numbers.append(number)\n",
    "highest_number = max(numbers)\n",
    "print(highest_number)"
   ]
  },
  {
   "cell_type": "code",
   "execution_count": null,
   "id": "dfdb7550",
   "metadata": {},
   "outputs": [],
   "source": [
    "#Input score (0–100)\n",
    "#Output grade: A (90+), B (80–89), etc\n",
    "score = int(input(\"Enter your scores: \"))\n",
    "if score >= 90:\n",
    "  print(\"A\")\n",
    "elif score >= 80:\n",
    "  print(\"B\")\n",
    "elif score >= 70:\n",
    "  print(\"C\")\n",
    "elif score >= 60:\n",
    "  print(\"D\")\n",
    "else:\n",
    "  print(\"Fail\")"
   ]
  },
  {
   "cell_type": "code",
   "execution_count": 13,
   "id": "26793f8c",
   "metadata": {},
   "outputs": [
    {
     "name": "stdout",
     "output_type": "stream",
     "text": [
      "Hello Kepha\n"
     ]
    }
   ],
   "source": [
    "# Assignment: Functions\n",
    "# 1. Write a function greet(name) that prints “Hello, [name]\"\n",
    "def greet(name):\n",
    "    print(f\"Hello {name}\")\n",
    "    \n",
    "greet(\"Kepha\")\n",
    "\n"
   ]
  },
  {
   "cell_type": "code",
   "execution_count": 22,
   "id": "635b3535",
   "metadata": {},
   "outputs": [
    {
     "name": "stdout",
     "output_type": "stream",
     "text": [
      "11\n"
     ]
    }
   ],
   "source": [
    "# 2. Create a function add(a, b) that returns the sum\n",
    "def add(a,b):\n",
    "    sum = a + b\n",
    "    print(int(sum))\n",
    "    \n",
    "add(4,7)\n",
    "    "
   ]
  },
  {
   "cell_type": "code",
   "execution_count": 31,
   "id": "44e8c435",
   "metadata": {},
   "outputs": [
    {
     "name": "stdout",
     "output_type": "stream",
     "text": [
      "12 is an even number\n"
     ]
    }
   ],
   "source": [
    "# 3. Modify add() to print “even” or “odd” based on the result\n",
    "def add(a,b):\n",
    "    total = a + b\n",
    "    if total % 2 == 0:\n",
    "        print(f\"{total} is an even number\")\n",
    "        \n",
    "    else:\n",
    "        print(f\"{total} is an odd number\")\n",
    "        \n",
    "add(6,6)\n",
    "        "
   ]
  },
  {
   "cell_type": "code",
   "execution_count": 36,
   "id": "6fc961ea",
   "metadata": {},
   "outputs": [
    {
     "name": "stdout",
     "output_type": "stream",
     "text": [
      "16 is an even number\n"
     ]
    }
   ],
   "source": [
    "# 4. Call a function from within another function.\n",
    "def add(a,b):\n",
    "    def addition():\n",
    "        total = a + b\n",
    "        if total % 2 == 0:\n",
    "            print(f\"{total} is an even number\")\n",
    "            \n",
    "        else:\n",
    "            print(f\"{total} is an odd number\")\n",
    "            \n",
    "    addition()\n",
    "    \n",
    "add(9,7)\n",
    "      \n",
    "        \n"
   ]
  }
 ],
 "metadata": {
  "kernelspec": {
   "display_name": "Python 3",
   "language": "python",
   "name": "python3"
  },
  "language_info": {
   "codemirror_mode": {
    "name": "ipython",
    "version": 3
   },
   "file_extension": ".py",
   "mimetype": "text/x-python",
   "name": "python",
   "nbconvert_exporter": "python",
   "pygments_lexer": "ipython3",
   "version": "3.12.5"
  }
 },
 "nbformat": 4,
 "nbformat_minor": 5
}
